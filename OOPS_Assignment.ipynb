{
  "nbformat": 4,
  "nbformat_minor": 0,
  "metadata": {
    "colab": {
      "provenance": []
    },
    "kernelspec": {
      "name": "python3",
      "display_name": "Python 3"
    },
    "language_info": {
      "name": "python"
    }
  },
  "cells": [
    {
      "cell_type": "code",
      "execution_count": null,
      "metadata": {
        "id": "2xLRgmHkq3KW"
      },
      "outputs": [],
      "source": [
        "1. What is Object-Oriented Programming (OOP) ?\n",
        "Ans - Object-Oriented Programming (OOP) is a programming paradigm based on the concept of objects, which encapsulate data (attributes) and behavior (methods).\n",
        " OOP enables modularity, code reuse, and better organization by modeling real-world entities as objects.\n"
      ]
    },
    {
      "cell_type": "markdown",
      "source": [
        "2.  What is a class in OOP\n",
        "Ans - A class in Object-Oriented Programming (OOP) is a blueprint or template for creating objects. It defines the properties (attributes) and behaviors (methods) that the objects of that class will have."
      ],
      "metadata": {
        "id": "GRbgC9ThrSXA"
      }
    },
    {
      "cell_type": "markdown",
      "source": [
        "3.  What is an object in OOP?\n",
        "Ans- An object is an instance of a class. It represents a real-world entity and contains attributes (data) and methods (behavior) defined by the class."
      ],
      "metadata": {
        "id": "FLoMKcLDrjt2"
      }
    },
    {
      "cell_type": "markdown",
      "source": [
        "4.  What is the difference between abstraction and encapsulation\n",
        "Ans - Abstraction - \tHides implementation details and shows only the essential features\n",
        "Encapsulation - Restricts direct access to data and allows modifications only through controlled methods."
      ],
      "metadata": {
        "id": "v0DvyCixruQv"
      }
    },
    {
      "cell_type": "markdown",
      "source": [
        "5.  What are dunder methods in Python?\n",
        "Ans - Dunder (double underscore) methods, also called magic methods or special methods, are predefined methods in Python that start and end with double underscores (__). They allow objects to interact with Python’s built-in operations like addition, string representation, and object comparison.\n",
        "\n"
      ],
      "metadata": {
        "id": "OJUsfXktsHRN"
      }
    },
    {
      "cell_type": "markdown",
      "source": [
        "6.  Explain the concept of inheritance in OOP.\n",
        "Ans - Inheritance is a fundamental concept in Object-Oriented Programming (OOP) that allows a class (child class) to acquire the properties and methods of another class (parent class). This promotes code reusability, extensibility, and hierarchical relationships between classes."
      ],
      "metadata": {
        "id": "TVZWP0dVsU5I"
      }
    },
    {
      "cell_type": "markdown",
      "source": [
        "7.  What is polymorphism in OOP?\n",
        "Ans - Polymorphism  is an Object-Oriented Programming (OOP) concept that allows a single interface to be used for different data types or operations. This makes the code more flexible, reusable, and scalable.\n",
        "\n"
      ],
      "metadata": {
        "id": "RcjWU9k5sgfR"
      }
    },
    {
      "cell_type": "markdown",
      "source": [
        "8.  How is encapsulation achieved in Python?\n",
        "Ans - Encapsulation is the concept of restricting direct access to an object's data and allowing access only through controlled methods. It helps protect sensitive information and ensures that data is modified in a controlled manner."
      ],
      "metadata": {
        "id": "kFc2kgr8suCC"
      }
    },
    {
      "cell_type": "markdown",
      "source": [
        "9. What is a constructor in Python?\n",
        "Ans - A constructor is a special method in Python that is automatically called when a new object is created. It is used to initialize an object's attributes."
      ],
      "metadata": {
        "id": "styqLOKbs4kb"
      }
    },
    {
      "cell_type": "markdown",
      "source": [
        "10.  What are class and static methods in Python?\n",
        "Ans - Python provides class methods and static methods to work with class-level functionality. These methods use decorators to define their behavior.\n",
        "* Class Method - A class method operates on the class itself rather than an instance. It can modify class-level attributes and is defined using the @classmethod decorator.\n",
        "*  Static Method - A static method is independent of both the instance and the class. It behaves like a regular function but is inside a class for organizational purposes."
      ],
      "metadata": {
        "id": "gv9dECo-tIrT"
      }
    },
    {
      "cell_type": "markdown",
      "source": [
        "11.  What is method overloading in Python/\n",
        "Ans - Method Overloading allows multiple methods in a class to have the same name but different parameters (number or type). It improves code readability and reusability."
      ],
      "metadata": {
        "id": "d_gwCCDNtv6u"
      }
    },
    {
      "cell_type": "markdown",
      "source": [
        "12.  What is method overriding in OOP/\n",
        "Ans - Method Overriding allows a subclass to provide a specific implementation of a method that is already defined in its parent class. It is a key feature of Polymorphism in Object-Oriented Programming (OOP).\n"
      ],
      "metadata": {
        "id": "x6yBKERzt7PU"
      }
    },
    {
      "cell_type": "markdown",
      "source": [
        "13.  What is a property decorator in Python\n",
        "Ans - The @property decorator in Python is used to define getter, setter, and deleter methods for class attributes, allowing controlled access to private variables.\n"
      ],
      "metadata": {
        "id": "L_48BaTpuHvL"
      }
    },
    {
      "cell_type": "markdown",
      "source": [
        "14.  Why is polymorphism important in OOP\n",
        "Ans - Polymorphism allows the same interface to be used for different data types or objects. This enables flexibility and scalability in Object-Oriented Programming (OOP).\n",
        "\n"
      ],
      "metadata": {
        "id": "qGRPScmluRic"
      }
    },
    {
      "cell_type": "markdown",
      "source": [
        "15.  What is an abstract class in Python?\n",
        "Ans - An abstract class in Python is a class that cannot be instantiated and is meant to be inherited by subclasses. It serves as a blueprint for other classes by enforcing certain methods that must be implemented by subclasses.\n"
      ],
      "metadata": {
        "id": "8u2kWd-LudmS"
      }
    },
    {
      "cell_type": "code",
      "source": [
        "16.  What are the advantages of OOP\n",
        "Ans - The advantages of OOP are\n",
        "* OOP promotes reusability through inheritance, reducing redundancy and saving development time.\n",
        "* Code is organized into small, independent objects, making it easier to debug, update, and maintain.\n",
        "* Encapsulation protects data by restricting direct access and ensuring controlled modification through methods."
      ],
      "metadata": {
        "id": "4vtU2MA4ut8T"
      },
      "execution_count": null,
      "outputs": []
    },
    {
      "cell_type": "markdown",
      "source": [
        "17.  What is the difference between a class variable and an instance variable\n",
        "Ans -  Class Variable - A class variable is shared among all instances of a class.\n",
        "* Defined inside the class but outside any method.\n",
        "* It belongs to the class itself, not any specific instance.\n",
        "* If modified using the class name, the change affects all instances\n",
        "     \n",
        "     Instance Variable - An instance variable is specific to each object (instance).\n",
        "* Defined inside the __init__ method using self.\n",
        "* Each instance has its own copy, and changing it does not affect other instances.\n",
        "\n"
      ],
      "metadata": {
        "id": "N9yNQHbxvhrB"
      }
    },
    {
      "cell_type": "markdown",
      "source": [
        "18. What is multiple inheritance in Python\n",
        "Ans - Multiple inheritance is a feature in object-oriented programming (OOP) where a class can inherit from more than one parent class. This allows a child class to access the attributes and methods of multiple parent classes."
      ],
      "metadata": {
        "id": "mF4Qx6IcwSYR"
      }
    },
    {
      "cell_type": "markdown",
      "source": [
        "19.  Explain the purpose of ‘’__str__’ and ‘__repr__’ ‘ methods in Python\n",
        "Ans - In Python, both __str__ and __repr__ are dunder (double underscore) methods that define how objects are represented as strings. They serve different purposes:\n",
        "*  __str__  - *Returns a human-readable string representation of the object.\n",
        "              *Used when calling print(obj) or str(obj).\n",
        "              *Intended for end-users.\n",
        "              \n",
        "*  __repr__ - *Returns a formal, unambiguous string representation of the object.\n",
        "              *Used when calling repr(obj) or in debugging (print([obj]), console, interactive shell).\n",
        "              *Should return a valid Python expression that can recreate the object.\n"
      ],
      "metadata": {
        "id": "61fTmfk6y-fK"
      }
    },
    {
      "cell_type": "markdown",
      "source": [
        "20.  What is the significance of the ‘super()’ function in Python\n",
        "Ans - The super() function in Python is used to call methods from a parent class inside a child class. It ensures code reusability, method overriding, and proper method resolution in multiple inheritance scenarios.\n"
      ],
      "metadata": {
        "id": "RaR4BOYZzvLE"
      }
    },
    {
      "cell_type": "markdown",
      "source": [
        "21.  What is the significance of the __del__ method in Python\n",
        "Ans - The __del__ method in Python is a destructor method that is automatically called when an object is about to be destroyed (garbage collected). It is primarily used to clean up resources such as closing files, releasing memory, or disconnecting from a database.\n"
      ],
      "metadata": {
        "id": "fyuD5hZN0Azw"
      }
    },
    {
      "cell_type": "markdown",
      "source": [
        "22.  What is the difference between @staticmethod and @classmethod in Python\n",
        "Ans - 1️. @staticmethod (Independent Function in a Class)\n",
        "* Belongs to the class, but does not use class (cls) or instance (self) variables.\n",
        "* Acts like a regular function, but is logically grouped within the class.\n",
        "* Used when a method does not need access to class or instance attributes.\n",
        "     2️. @classmethod (Class-Level Method)\n",
        "* Takes cls as the first parameter, referring to the class itself.\n",
        "* Can modify class variables and create instances of the class.\n",
        "* Used when a method needs to work with class-level data but not instance-level data."
      ],
      "metadata": {
        "id": "-wD2ch0-0LNV"
      }
    },
    {
      "cell_type": "markdown",
      "source": [
        "23. How does polymorphism work in Python with inheritance?\n",
        "Ans - A parent class defines a method.\n",
        "Child classes override the method with their own implementation.\n",
        "The method can be called on different objects, but each executes its own version.\n"
      ],
      "metadata": {
        "id": "JVh1FYMF0xQm"
      }
    },
    {
      "cell_type": "markdown",
      "source": [
        "24.  What is method chaining in Python OOP\n",
        "Ans - Method chaining is a technique in Object-Oriented Programming (OOP) where multiple methods are called on the same object in a single line. Each method returns self, allowing the next method to be called directly."
      ],
      "metadata": {
        "id": "Fos9wh9g1FWK"
      }
    },
    {
      "cell_type": "markdown",
      "source": [
        "25.  What is the purpose of the __call__ method in Python?\n",
        "Ans - The __call__ method in Python allows an instance of a class to be invoked as a function. When defined in a class, it enables objects to be called using parentheses (), just like a regular function."
      ],
      "metadata": {
        "id": "eQH9x-n31OnW"
      }
    },
    {
      "cell_type": "markdown",
      "source": [
        "                     ** Practical Questions**"
      ],
      "metadata": {
        "id": "9tBNimqQ1nEz"
      }
    },
    {
      "cell_type": "markdown",
      "source": [
        "1.  1. Create a parent class Animal with a method speak() that prints a generic message. Create a child class Dog\n",
        "that overrides the speak() method to print \"Bark!\""
      ],
      "metadata": {
        "id": "_iv9h5DO1uI7"
      }
    },
    {
      "cell_type": "code",
      "source": [
        "class Animal:\n",
        "    def speak(self):\n",
        "        print(\"Animal makes a sound.\")\n",
        "\n",
        "class Dog(Animal):\n",
        "    def speak(self):\n",
        "        print(\"Bark!\")\n",
        "\n",
        "animal = Animal()\n",
        "dog = Dog()\n",
        "\n",
        "animal.speak()\n",
        "dog.speak()\n"
      ],
      "metadata": {
        "id": "rS3y081s10Sv"
      },
      "execution_count": null,
      "outputs": []
    },
    {
      "cell_type": "markdown",
      "source": [
        "2.  2. Write a program to create an abstract class Shape with a method area(). Derive classes Circle and Rectangle\n",
        "from it and implement the area() method in both."
      ],
      "metadata": {
        "id": "9NIY_kMo2S3Y"
      }
    },
    {
      "cell_type": "code",
      "source": [
        "from abc import ABC, abstractmethod\n",
        "\n",
        "class Shape(ABC):\n",
        "    @abstractmethod\n",
        "    def area(self):\n",
        "        pass\n",
        "class Circle(Shape):\n",
        "    def __init__(self, radius):\n",
        "        self.radius = radius\n",
        "\n",
        "    def area(self):\n",
        "        return 3.14 * self.radius * self.radius\n",
        "\n",
        "class Rectangle(Shape):\n",
        "    def __init__(self, length, width):\n",
        "        self.length = length\n",
        "        self.width = width\n",
        "\n",
        "    def area(self):\n",
        "        return self.length * self.width\n",
        "\n",
        "circle = Circle(5)\n",
        "rectangle = Rectangle(4, 6)\n",
        "\n",
        "print(\"Circle Area:\", circle.area())\n",
        "print(\"Rectangle Area:\", rectangle.area())\n"
      ],
      "metadata": {
        "id": "ygFDwdE82Wxa"
      },
      "execution_count": null,
      "outputs": []
    },
    {
      "cell_type": "markdown",
      "source": [
        "3. Implement a multi-level inheritance scenario where a class Vehicle has an attribute type. Derive a class Car\n",
        "and further derive a class ElectricCar that adds a battery attribute."
      ],
      "metadata": {
        "id": "lYNnnTq8281j"
      }
    },
    {
      "cell_type": "code",
      "source": [
        "class Vehicle:\n",
        "    def __init__(self, type):\n",
        "        self.type = type\n",
        "\n",
        "    def show_type(self):\n",
        "        print(f\"Vehicle Type: {self.type}\")\n",
        "\n",
        "class Car(Vehicle):\n",
        "    def __init__(self, type, brand):\n",
        "        super().__init__(type)\n",
        "        self.brand = brand\n",
        "\n",
        "    def show_brand(self):\n",
        "        print(f\"Car Brand: {self.brand}\")\n",
        "\n",
        "class ElectricCar(Car):\n",
        "    def __init__(self, type, brand, battery_capacity):\n",
        "        super().__init__(type, brand)\n",
        "        self.battery_capacity = battery_capacity\n",
        "\n",
        "    def show_battery(self):\n",
        "        print(f\"Battery Capacity: {self.battery_capacity} kWh\")\n",
        "\n",
        "tesla = ElectricCar(\"Four-Wheeler\", \"Tesla\", 75)\n",
        "\n",
        "tesla.show_type()\n",
        "tesla.show_brand()\n",
        "tesla.show_battery()\n"
      ],
      "metadata": {
        "id": "lzRb9RK_3CN5"
      },
      "execution_count": null,
      "outputs": []
    },
    {
      "cell_type": "markdown",
      "source": [
        "4. . Demonstrate polymorphism by creating a base class Bird with a method fly(). Create two derived classes Sparrow and Penguin that override the fly() method."
      ],
      "metadata": {
        "id": "X4enJBc03d-e"
      }
    },
    {
      "cell_type": "code",
      "source": [
        "class Bird:\n",
        "    def fly(self):\n",
        "        print(\"Some birds can fly, some cannot.\")\n",
        "\n",
        "class Sparrow(Bird):\n",
        "    def fly(self):\n",
        "        print(\"Sparrow: I can fly high!\")\n",
        "\n",
        "class Penguin(Bird):\n",
        "    def fly(self):\n",
        "        print(\"Penguin: I cannot fly, but I can swim!\")\n",
        "\n",
        "def bird_flight(bird):\n",
        "    bird.fly()\n",
        "\n",
        "sparrow = Sparrow()\n",
        "penguin = Penguin()\n",
        "\n",
        "bird_flight(sparrow)\n",
        "bird_flight(penguin)"
      ],
      "metadata": {
        "id": "aJApzxHs3lPe"
      },
      "execution_count": null,
      "outputs": []
    },
    {
      "cell_type": "markdown",
      "source": [
        "5.  Write a program to demonstrate encapsulation by creating a class BankAccount with private attributes\n",
        "balance and methods to deposit, withdraw, and check balance"
      ],
      "metadata": {
        "id": "aalqyDY93_iv"
      }
    },
    {
      "cell_type": "code",
      "source": [
        "class BankAccount:\n",
        "    def __init__(self, initial_balance=0):\n",
        "        self.__balance = initial_balance\n",
        "    def deposit(self, amount):\n",
        "        if amount > 0:\n",
        "            self.__balance += amount\n",
        "            print(f\"Deposited: ${amount}\")\n",
        "        else:\n",
        "            print(\"Deposit amount must be positive.\")\n",
        "\n",
        "    def withdraw(self, amount):\n",
        "        if 0 < amount <= self.__balance:\n",
        "            self.__balance -= amount\n",
        "            print(f\"Withdrawn: ${amount}\")\n",
        "        else:\n",
        "            print(\"Insufficient funds or invalid amount.\")\n",
        "\n",
        "    def check_balance(self):\n",
        "        print(f\"Current Balance: ${self.__balance}\")\n",
        "\n",
        "account = BankAccount(1000)\n",
        "\n",
        "account.deposit(500)\n",
        "account.withdraw(300)\n",
        "account.check_balance()\n",
        "\n",
        "print(account._BankAccount__balance)\n"
      ],
      "metadata": {
        "id": "ZNRDgdd24F2Z"
      },
      "execution_count": null,
      "outputs": []
    },
    {
      "cell_type": "markdown",
      "source": [
        " 6. Demonstrate runtime polymorphism using a method play() in a base class Instrument. Derive classes Guitar and Piano that implement their own version of play()."
      ],
      "metadata": {
        "id": "fGf2vUgE4cye"
      }
    },
    {
      "cell_type": "code",
      "source": [
        "class Instrument:\n",
        "    def play(self):\n",
        "        print(\"Playing some instrument...\")\n",
        "\n",
        "class Guitar(Instrument):\n",
        "    def play(self):\n",
        "        print(\" Playing the Guitar: Strumming strings!\")\n",
        "\n",
        "class Piano(Instrument):\n",
        "    def play(self):\n",
        "        print(\" Playing the Piano: Pressing keys!\")\n",
        "\n",
        "def start_playing(instrument):\n",
        "    instrument.play()\n",
        "guitar = Guitar()\n",
        "piano = Piano()\n",
        "\n",
        "start_playing(guitar)\n",
        "start_playing(piano)\n"
      ],
      "metadata": {
        "id": "wT_xbT9y4jtk"
      },
      "execution_count": null,
      "outputs": []
    },
    {
      "cell_type": "markdown",
      "source": [
        "7. Create a class MathOperations with a class method add_numbers() to add two numbers and a static  method subtract_numbers() to subtract two numbers."
      ],
      "metadata": {
        "id": "AfBtrfJf46Sk"
      }
    },
    {
      "cell_type": "code",
      "source": [
        "class MathOperations:\n",
        "    @classmethod\n",
        "    def add_numbers(cls, a, b):\n",
        "        return a + b\n",
        "\n",
        "    @staticmethod\n",
        "    def subtract_numbers(a, b):\n",
        "        return a - b\n",
        "sum_result = MathOperations.add_numbers(10, 5)\n",
        "diff_result = MathOperations.subtract_numbers(10, 5)\n",
        "\n",
        "print(f\"Addition: {sum_result}\")\n",
        "print(f\"Subtraction: {diff_result}\")\n"
      ],
      "metadata": {
        "id": "1FihxFb_5B5m"
      },
      "execution_count": null,
      "outputs": []
    },
    {
      "cell_type": "markdown",
      "source": [
        " 8. Implement a class Person with a class method to count the total number of persons created."
      ],
      "metadata": {
        "id": "4fndNaa25iNw"
      }
    },
    {
      "cell_type": "code",
      "source": [
        "class Person:\n",
        "    count = 0\n",
        "    def __init__(self, name):\n",
        "        self.name = name\n",
        "        Person.count += 1\n",
        "    @classmethod\n",
        "    def get_person_count(cls):\n",
        "        return cls.count\n",
        "p1 = Person(\"Alice\")\n",
        "p2 = Person(\"Bob\")\n",
        "p3 = Person(\"Charlie\")\n",
        "\n",
        "print(f\"Total Persons Created: {Person.get_person_count()}\")\n"
      ],
      "metadata": {
        "id": "zJVAo-Be5pTW"
      },
      "execution_count": null,
      "outputs": []
    },
    {
      "cell_type": "markdown",
      "source": [
        "9. Write a class Fraction with attributes numerator and denominator. Override the str method to display the\n",
        "fraction as \"numerator/denominator\"."
      ],
      "metadata": {
        "id": "hm-QqAoP56Z0"
      }
    },
    {
      "cell_type": "code",
      "source": [
        "class Fraction:\n",
        "    def __init__(self, numerator, denominator):\n",
        "        self.numerator = numerator\n",
        "        self.denominator = denominator\n",
        "\n",
        "    def __str__(self):\n",
        "        return f\"{self.numerator}/{self.denominator}\"\n",
        "\n",
        "frac1 = Fraction(3, 4)\n",
        "frac2 = Fraction(5, 8)\n",
        "\n",
        "print(frac1)\n",
        "print(frac2)"
      ],
      "metadata": {
        "id": "Zm_L5v-b6Bir"
      },
      "execution_count": null,
      "outputs": []
    },
    {
      "cell_type": "markdown",
      "source": [
        " 10. Demonstrate operator overloading by creating a class Vector and overriding the add method to add two vectors."
      ],
      "metadata": {
        "id": "muKs-jwf6Sm5"
      }
    },
    {
      "cell_type": "code",
      "source": [
        "class Vector:\n",
        "    def __init__(self, x, y):\n",
        "        self.x = x\n",
        "        self.y = y\n",
        "\n",
        "    def __add__(self, other):\n",
        "        \"\"\"Overloading the + operator to add two vectors\"\"\"\n",
        "        return Vector(self.x + other.x, self.y + other.y)\n",
        "\n",
        "    def __str__(self):\n",
        "        \"\"\"String representation of the vector\"\"\"\n",
        "        return f\"({self.x}, {self.y})\"\n",
        "\n",
        "v1 = Vector(3, 4)\n",
        "v2 = Vector(1, 2)\n",
        "v3 = v1 + v2\n",
        "print(f\"Vector 1: {v1}\")\n",
        "print(f\"Vector 2: {v2}\")\n",
        "print(f\"Sum of Vectors: {v3}\")"
      ],
      "metadata": {
        "id": "9aJ1faqb6X90"
      },
      "execution_count": null,
      "outputs": []
    },
    {
      "cell_type": "markdown",
      "source": [
        " 11. Create a class Person with attributes name and age. Add a method greet() that prints \"Hello, my name is {name} and I am {age} years old.\""
      ],
      "metadata": {
        "id": "N5aZ-eUA6pNO"
      }
    },
    {
      "cell_type": "code",
      "source": [
        "class Person:\n",
        "    def __init__(self, name, age):\n",
        "        self.name = name\n",
        "        self.age = age\n",
        "\n",
        "    def greet(self):\n",
        "        print(f\"Hello, my name is {self.name} and I am {self.age} years old.\")\n",
        "\n",
        "p1 = Person(\"Alice\", 25)\n",
        "p2 = Person(\"Bob\", 30)\n",
        "\n",
        "p1.greet()\n",
        "p2.greet()\n"
      ],
      "metadata": {
        "id": "oyDwtm_66waz"
      },
      "execution_count": null,
      "outputs": []
    },
    {
      "cell_type": "markdown",
      "source": [
        " 12. Implement a class Student with attributes name and grades. Create a method average_grade() to compute the average of the grades."
      ],
      "metadata": {
        "id": "y4NsTmfw68lO"
      }
    },
    {
      "cell_type": "code",
      "source": [
        "class Student:\n",
        "    def __init__(self, name, grades):\n",
        "        self.name = name\n",
        "        self.grades = grades\n",
        "    def average_grade(self):\n",
        "        if len(self.grades) == 0:\n",
        "            return 0\n",
        "        return sum(self.grades) / len(self.grades)\n",
        "s1 = Student(\"Alice\", [85, 90, 78, 92])\n",
        "s2 = Student(\"Bob\", [88, 76, 95, 89, 100])\n",
        "\n",
        "print(f\"{s1.name}'s Average Grade: {s1.average_grade():.2f}\")\n",
        "print(f\"{s2.name}'s Average Grade: {s2.average_grade():.2f}\")"
      ],
      "metadata": {
        "id": "u1Dng8Mg7CYc"
      },
      "execution_count": null,
      "outputs": []
    },
    {
      "cell_type": "markdown",
      "source": [
        " 13. Create a class Rectangle with methods set_dimensions() to set the dimensions and area() to calculate the area."
      ],
      "metadata": {
        "id": "tjooKc7N7Sxo"
      }
    },
    {
      "cell_type": "code",
      "source": [
        "class Rectangle:\n",
        "    def __init__(self, length=0, width=0):\n",
        "        self.length = length\n",
        "        self.width = width\n",
        "\n",
        "    def set_dimensions(self, length, width):\n",
        "        \"\"\"Sets the length and width of the rectangle\"\"\"\n",
        "        self.length = length\n",
        "        self.width = width\n",
        "\n",
        "    def area(self):\n",
        "        \"\"\"Calculates and returns the area of the rectangle\"\"\"\n",
        "        return self.length * self.width\n",
        "\n",
        "rect = Rectangle()\n",
        "\n",
        "rect.set_dimensions(5, 10)\n",
        "\n",
        "print(f\"Rectangle Area: {rect.area()}\")\n"
      ],
      "metadata": {
        "id": "pXz0bOjN7Y-k"
      },
      "execution_count": null,
      "outputs": []
    },
    {
      "cell_type": "markdown",
      "source": [
        " 14. Create a class Employee with a method calculate_salary() that computes the salary based on hours worked and hourly rate. Create a derived class Manager that adds a bonus to the salary."
      ],
      "metadata": {
        "id": "6JB0bbIg7mXz"
      }
    },
    {
      "cell_type": "code",
      "source": [
        "class Employee:\n",
        "    def __init__(self, name, hours_worked, hourly_rate):\n",
        "        self.name = name\n",
        "        self.hours_worked = hours_worked\n",
        "        self.hourly_rate = hourly_rate\n",
        "\n",
        "    def calculate_salary(self):\n",
        "        \"\"\"Calculates salary based on hours worked and hourly rate\"\"\"\n",
        "        return self.hours_worked * self.hourly_rate\n",
        "\n",
        "class Manager(Employee):\n",
        "    def __init__(self, name, hours_worked, hourly_rate, bonus):\n",
        "        super().__init__(name, hours_worked, hourly_rate)\n",
        "        self.bonus = bonus\n",
        "\n",
        "    def calculate_salary(self):\n",
        "        \"\"\"Overrides method to include a bonus\"\"\"\n",
        "        base_salary = super().calculate_salary()\n",
        "        return base_salary + self.bonus\n",
        "\n",
        "emp = Employee(\"Alice\", 40, 20)\n",
        "mgr = Manager(\"Bob\", 40, 30, 500)\n",
        "\n",
        "print(f\"{emp.name}'s Salary: ${emp.calculate_salary()}\")\n",
        "print(f\"{mgr.name}'s Salary: ${mgr.calculate_salary()}\")"
      ],
      "metadata": {
        "id": "cne_sr147sFZ"
      },
      "execution_count": null,
      "outputs": []
    },
    {
      "cell_type": "markdown",
      "source": [
        "15. Create a class Product with attributes name, price, and quantity. Implement a method total_price() that calculates the total price of the product."
      ],
      "metadata": {
        "id": "J0J87Ywl79Sl"
      }
    },
    {
      "cell_type": "code",
      "source": [
        "class Product:\n",
        "    def __init__(self, name, price, quantity):\n",
        "        self.name = name\n",
        "        self.price = price\n",
        "        self.quantity = quantity\n",
        "\n",
        "    def total_price(self):\n",
        "        \"\"\"Calculates the total price of the product\"\"\"\n",
        "        return self.price * self.quantity\n",
        "\n",
        "product1 = Product(\"Laptop\", 800, 2)\n",
        "product2 = Product(\"Smartphone\", 500, 3)\n",
        "\n",
        "print(f\"Total price of {product1.name}: ${product1.total_price()}\")\n",
        "print(f\"Total price of {product2.name}: ${product2.total_price()}\")"
      ],
      "metadata": {
        "id": "4pEgA3jH8DPQ"
      },
      "execution_count": null,
      "outputs": []
    },
    {
      "cell_type": "markdown",
      "source": [
        " 16. Create a class Animal with an abstract method sound(). Create two derived classes Cow and Sheep that\n",
        "implement the sound() method."
      ],
      "metadata": {
        "id": "dicckest8L8r"
      }
    },
    {
      "cell_type": "code",
      "source": [
        "\n",
        "class Animal(ABC):\n",
        "    @abstractmethod\n",
        "    def sound(self):\n",
        "        \"\"\"Abstract method that must be implemented by subclasses\"\"\"\n",
        "        pass\n",
        "\n",
        "class Cow(Animal):\n",
        "    def sound(self):\n",
        "        return \"Moo! 🐄\"\n",
        "\n",
        "class Sheep(Animal):\n",
        "    def sound(self):\n",
        "        return \"Baa! 🐑\"\n",
        "\n",
        "cow = Cow()\n",
        "sheep = Sheep()\n",
        "\n",
        "print(f\"Cow says: {cow.sound()}\")\n",
        "print(f\"Sheep says: {sheep.sound()}\")"
      ],
      "metadata": {
        "id": "bVc_p5vg8RCZ"
      },
      "execution_count": null,
      "outputs": []
    },
    {
      "cell_type": "markdown",
      "source": [
        " 17. Create a class Book with attributes title, author, and year_published. Add a method get_book_info() that\n",
        "returns a formatted string with the book's details."
      ],
      "metadata": {
        "id": "8GhGSktu8uWq"
      }
    },
    {
      "cell_type": "code",
      "source": [
        "class Book:\n",
        "    def __init__(self, title, author, year_published):\n",
        "        self.title = title\n",
        "        self.author = author\n",
        "        self.year_published = year_published\n",
        "\n",
        "    def get_book_info(self):\n",
        "        \"\"\"Returns a formatted string with book details\"\"\"\n",
        "        return f\" '{self.title}' by {self.author}, Published in {self.year_published}\"\n",
        "\n",
        "book1 = Book(\"To Kill a Mockingbird\", \"Harper Lee\", 1960)\n",
        "book2 = Book(\"1984\", \"George Orwell\", 1949)\n",
        "\n",
        "print(book1.get_book_info())\n",
        "print(book2.get_book_info())"
      ],
      "metadata": {
        "id": "tJdlO92J82v2"
      },
      "execution_count": null,
      "outputs": []
    },
    {
      "cell_type": "markdown",
      "source": [
        " 18. Create a class House with attributes address and price. Create a derived class Mansion that adds an\n",
        "attribute number_of_rooms."
      ],
      "metadata": {
        "id": "C2vtTW8W9Dbt"
      }
    },
    {
      "cell_type": "code",
      "source": [
        "class House:\n",
        "    def __init__(self, address, price):\n",
        "        self.address = address\n",
        "        self.price = price\n",
        "\n",
        "    def get_details(self):\n",
        "        return f\" House at {self.address}, Price: ${self.price}\"\n",
        "\n",
        "class Mansion(House):\n",
        "    def __init__(self, address, price, number_of_rooms):\n",
        "        super().__init__(address, price)\n",
        "        self.number_of_rooms = number_of_rooms\n",
        "\n",
        "    def get_details(self):\n",
        "        return f\"🏰 Mansion at {self.address}, Price: ${self.price}, Rooms: {self.number_of_rooms}\"\n",
        "\n",
        "house = House(\"123 Main St\", 250000)\n",
        "mansion = Mansion(\"456 Luxury Lane\", 5000000, 10)\n",
        "\n",
        "print(house.get_details())\n",
        "print(mansion.get_details())"
      ],
      "metadata": {
        "id": "gd2V6rrB9I2v"
      },
      "execution_count": null,
      "outputs": []
    }
  ]
}